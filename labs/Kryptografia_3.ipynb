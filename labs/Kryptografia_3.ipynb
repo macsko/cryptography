{
 "cells": [
  {
   "cell_type": "markdown",
   "metadata": {
    "id": "O4N_EaD6qK27"
   },
   "source": [
    "# RSA\n",
    "\n",
    "Rivest Shamir Adleman (RSA) jest jednym z pierwszych algorytmów asymetrycznych. Został zaprojektowany w 1977 roku i jest używany do dzisiejszego dnia. Zyskał akceptację zarówno NISTu jak i organizacji ISO/IEC oraz RFC. RSA posiada parę kluczy - publiczny oraz prywatny. Publiczny klucz może być znany każdemu i służy on do operacji szyfrowania. Klucz prywatny jest znany tylko i wyłącznie instancji, która klucze generowała. Ta sama instancja jako jedna jedyna ma możliwość odszyfrowania kryptogramów.\n",
    "\n",
    "RSA umożliwia także tworzenie podpisów cyfrowych (z ang *Digital Signatures*, czyli *DS*). Podpis cyfrowy to dodatkowy blok informacji dołączony do wiadomości, który zapewnia:\n",
    "1. *Integrity* - integralność wiadomości, czyli potwierdzenie, że nie była ona w żaden sposób modyfikowana.\n",
    "2. *Authentication* - autentykacje podpisującego, czyli potwierdzenie jego tożsamości.\n",
    "3. *Non-repudiation* - czyli wysyłający podpisaną wiadomość nie ma możliwości zaprzeczenia faktu, że to on ją podpisał, natomiast otrzymujący wiadomość nie ma możliwości zaprzeczenia faktu, iż to on ją zweryfikował. \n",
    "\n",
    "Samo haszowanie wiadomości zapewnia tylko *integirty*, natomiast utworzenie kodu MAC (*Message Authentiaction Code*) zapewnia jedynie *integrity* oraz *authentiaction*.\n",
    "\n",
    "Tworzenie podpisu cyfrowego z wykorzystaniem RSA wygląda odwrotnie niż komunikacja szyfrowana. To znaczy: podpis tworzony jest z wykorzystaniem klucza prywatnego - a więc tylko instancja generująca klucze może wiadomość podpisać. Weryfikacja odbywa się z wykorzystaniem klucza publicznego - czyli każda instancja, której nasz klucz udostępnimy, może podpis zweryfikować. \n",
    "\n",
    "Na początek zaimportujmy niezbędne biblioteki."
   ]
  },
  {
   "cell_type": "code",
   "execution_count": 44,
   "metadata": {
    "id": "F7OxWY2Mz7BD"
   },
   "outputs": [
    {
     "name": "stdout",
     "output_type": "stream",
     "text": [
      "Requirement already satisfied: pycryptodome in d:\\anaconda3\\lib\\site-packages (3.17)\n"
     ]
    },
    {
     "name": "stderr",
     "output_type": "stream",
     "text": [
      "WARNING: Ignoring invalid distribution -umpy (d:\\anaconda3\\lib\\site-packages)\n",
      "WARNING: Ignoring invalid distribution -umpy (d:\\anaconda3\\lib\\site-packages)\n",
      "WARNING: Ignoring invalid distribution -umpy (d:\\anaconda3\\lib\\site-packages)\n",
      "WARNING: Ignoring invalid distribution -umpy (d:\\anaconda3\\lib\\site-packages)\n",
      "WARNING: Ignoring invalid distribution -umpy (d:\\anaconda3\\lib\\site-packages)\n",
      "WARNING: Ignoring invalid distribution -umpy (d:\\anaconda3\\lib\\site-packages)\n",
      "\n",
      "[notice] A new release of pip available: 22.2.2 -> 23.0.1\n",
      "[notice] To update, run: python.exe -m pip install --upgrade pip\n"
     ]
    }
   ],
   "source": [
    "!pip install pycryptodome\n",
    "import Crypto.Util.number as cu\n",
    "import Crypto.Random as rand\n",
    "import hashlib as hl\n",
    "import math"
   ]
  },
  {
   "cell_type": "markdown",
   "metadata": {
    "id": "64vuvjiEuP3M"
   },
   "source": [
    "**Zadanie 1**\n",
    "\n",
    "Odpowiedz na poniższe pytania. Rozważ sytuację, w której dwie instancje komunikują się ze sobą, a trzecia próbuje dokonywać nieautoryzowanych zmian w treści wiadomości na drodze jej przesyłu.\n",
    "1. Dlaczego haszowanie zapewnia tylko integrity? Podpowiedź: czy haszowanie uwzględnia jakikolwiek klucz prywatny?\n",
    "2. Dlaczego kod MAC nie zapewnia *non-repudiation*? Co (niepożądanego) może dokonać odbierający wiadomość i atakujący komunikację? Podpowiedź: czy kody MAC, w szczególności popularny kod HMAC - który zakłada użycie klucza prywatnego - w jakikolwiek sposób weryfikuje KTO i DO CZEGO go użył? Kto dysponuje, a kto NIE dysponuje kluczem prywatnym HMAC?\n",
    "3. Dlaczego podpis cyfrowy zapewnia wszystkie te trzy cechy?"
   ]
  },
  {
   "cell_type": "markdown",
   "metadata": {
    "id": "2qE7Uzp2xXKM"
   },
   "source": [
    "## Generowanie kluczy\n",
    "\n",
    "Algorytm generowania kluczy RSA może zostać przedstawiony w następujący sposób:\n",
    "\n",
    "1) Znajdź dwie różne i kryptograficznie bezpieczne liczby pierwsze.\n",
    "\n",
    "2) Oblicz $n = p * q$.\n",
    "\n",
    "3) Oblicz $f = (p - 1) * (q - 1)$.\n",
    "\n",
    "4) Znajdź dowolne $e$, takie, że $1 < e < f$ oraz $GCD(f, e) = 1$. GCD to największy wspólny dzielnik. Para $(e, n)$ to jest **klucz publiczny**.\n",
    "\n",
    "5) Oblicz $d = e^{-1}$ mod $f$. Para $(d, n)$ to **klucz prywatny**, przy czym tajne jest tylko $d$. "
   ]
  },
  {
   "cell_type": "markdown",
   "metadata": {
    "id": "1MRcuBhC0UHA"
   },
   "source": [
    "W ten sposób generowane parametry byłyby matematycznie poprawne, lecz kryptograficznie niebezpieczne. Ustalmy więc, że chcemy aby nasz klucz publiczny był odpwowiednio długi. Będzie to długość bitowa parametru $n$, oznaczmy ją jako $nlen = 2048$. Parametr $nlen$ zawsze przyjmuje parzyste wartości. Mając to założenie, musimy (**uwzględniając wszystkie założenia z algorytmu generowania kluczy**) dodatkowo zapewnić, że:\n",
    "\n",
    "1. $65537 ≤ e < 2^{256}$\n",
    "2. $LCM(p - 1, q - 1) \\geq e * 2^{nlen/2}$\n",
    "3. $2^{(nlen - 1)//2} < p < 2^{nlen/2}$\n",
    "4. $2^{(nlen - 1)//2} < q < 2^{nlen/2}$\n",
    "5. $|p - q| > 2^{(nlen/2) - 100}$\n",
    "\n",
    "Gdzie LCM oznacza *Least Common Multiple*, czyli najmniejszą wspólną wielokrotność. Funkcję LCM znajdziesz w bibliotece math. Do potęgowania **nie używaj** pythonowej notacji \"**\", tylko metody pow() - przetestuj obie te metody obliczania potęgi i porównaj wydajność (zadanie opcjonalne). Do obliczania wartości bezwzględnej użyj metody abs() - również standardowa metoda pythona. Resztę niezbędnych metod znajdziesz w bibliotece [Crypto.Util.number](https://pycryptodome.readthedocs.io/en/latest/src/util/util.html) zaimportowanej jako cu. Opis powyższych założeń możesz znaleźć w [tym](https://nvlpubs.nist.gov/nistpubs/SpecialPublications/NIST.SP.800-56Br2.pdf) dokumencie NIST-owym."
   ]
  },
  {
   "cell_type": "markdown",
   "metadata": {
    "id": "5inlXTklGGMv"
   },
   "source": [
    "**Zadanie 2**\n",
    "\n",
    "Uwzględniając wszystko powyższe, napisz metodę/metody generujące wartości $n$, $e$ oraz $d$."
   ]
  },
  {
   "cell_type": "code",
   "execution_count": 2,
   "metadata": {},
   "outputs": [],
   "source": [
    "nlen = 2048"
   ]
  },
  {
   "cell_type": "code",
   "execution_count": 3,
   "metadata": {},
   "outputs": [],
   "source": [
    "def lcm(a, b):\n",
    "    return abs(a * b) // math.gcd(a, b)"
   ]
  },
  {
   "cell_type": "code",
   "execution_count": 4,
   "metadata": {
    "id": "tRiOWsS7GRL9"
   },
   "outputs": [],
   "source": [
    "def generate_keys():\n",
    "    p2_256 = pow(2, 256)\n",
    "    p2_nlen_1_2 = pow(2, (nlen - 1)//2)\n",
    "    p2_nlen_2_100 = pow(2, nlen/2 - 100)\n",
    "    p2_nlen_2 = pow(2, nlen//2)\n",
    "    \n",
    "    while True:\n",
    "        p, q = cu.getPrime(nlen//2), cu.getPrime(nlen//2)\n",
    "        if p > p2_nlen_1_2 and q > p2_nlen_1_2 and abs(p - q) > p2_nlen_2_100:\n",
    "            break\n",
    "    \n",
    "    n = p * q\n",
    "    f = (p - 1) * (q - 1)\n",
    "    \n",
    "    while True:\n",
    "        e = cu.getRandomRange(65537, min(p2_256, f) - 1)\n",
    "        if math.gcd(f, e) == 1 and lcm(p - 1, q - 1) >= e * p2_nlen_2:\n",
    "            break\n",
    "\n",
    "    d = cu.inverse(e, f)\n",
    "\n",
    "    return n, e, d"
   ]
  },
  {
   "cell_type": "code",
   "execution_count": 5,
   "metadata": {},
   "outputs": [
    {
     "data": {
      "text/plain": [
       "(14701818912750881522615272042200914939524841691743643074254753934284569311482691662097556636725676944173494197996337043243456616788738550166809457328742873350156446251424499279406175169574541683758432332673882597995934011839979117211340350310559941931092258891265014011628476034575072119662229644220406387800643811610136709270997142367960601604502749525772304473255752048018067730946022819173722307064478206634068239466255292687322938440943759749897976225717260503090754211010444076811997336510299986122973978323097554738490727146553372986906645059854890281206938123205409568735861867911334434303267173685636183407719,\n",
       " 69763697894511889391392176901045726854863803071572604317459736350590907928203,\n",
       " 11369404855169402409244592390465792267183619258136995521095531087693736639256066461698192347612539034207284041208013325509177242848308267295629337253965321518368744847820525342075187139174312337245089951282658974080739481421755729779019743738158933876776283457676184359848783099402240785934005566554598934042914161967414416318832080781749913747792155980306911391468177468357874967840935604316661607750769643368579158275616607681550406711005411986808721428013057609631200978748048133029998897999832501398743775977749215425633268451979129566247655575127272043907093114959533215385591294773817921225332341499370974981667)"
      ]
     },
     "execution_count": 5,
     "metadata": {},
     "output_type": "execute_result"
    }
   ],
   "source": [
    "generate_keys()"
   ]
  },
  {
   "cell_type": "markdown",
   "metadata": {
    "id": "wae-whoNGlz_"
   },
   "source": [
    "## Naiwne szyfrowanie i deszyfrowanie"
   ]
  },
  {
   "cell_type": "markdown",
   "metadata": {
    "id": "fESNrzCYNVfy"
   },
   "source": [
    "\n",
    "Naiwny algorytm szyfrowania wiadomości **M** z wykorzystaniem RSA:\n",
    "\n",
    "1) Zakoduj $M$ jako liczbę.\n",
    "\n",
    "2) Oblicz: $C = M^e$ mod $n$."
   ]
  },
  {
   "cell_type": "markdown",
   "metadata": {
    "id": "FQvVgWWrHBX2"
   },
   "source": [
    "Naiwny algorytm deszyfrowania kryptogramu **C** z wykorzystaniem RSA:\n",
    "\n",
    "1) $M = C^d$ mod $n$.\n",
    "\n",
    "2) Zdekoduj wiadomość $M$ do jej pierwotnej postaci (np. stringa). \n"
   ]
  },
  {
   "cell_type": "markdown",
   "metadata": {
    "id": "mFRFP0BsHc9l"
   },
   "source": [
    "**Zadanie 3**\n",
    "\n",
    "Napisz metody szyfrujące i deszyfrujące wiadomość $M$ zgodnie z powyższym algorytmem. Zaszyfruj wiadomość, zdeszyfruj i wypisz oryginalny tekst na ekranie. Odpowiedz na pytanie: jaki warunek musi spełniać liczbowa reprezentacja wiadomości $M$, aby można ją było poprawnie zaszyfrować i zdeszyfrować?"
   ]
  },
  {
   "cell_type": "code",
   "execution_count": 6,
   "metadata": {},
   "outputs": [],
   "source": [
    "def as_int(b):\n",
    "    return int.from_bytes(b, byteorder='big')\n",
    "\n",
    "def as_bytes(i, l=None):\n",
    "    if l is None:\n",
    "        l = (math.ceil(math.log2(i)) + 1)//8\n",
    "    return i.to_bytes(l, byteorder='big')"
   ]
  },
  {
   "cell_type": "code",
   "execution_count": 7,
   "metadata": {},
   "outputs": [],
   "source": [
    "def rsa_encode(M, e, n):\n",
    "    M_i = as_int(M)\n",
    "    return pow(M_i, e, n)\n",
    "    \n",
    "def rsa_decode(C, d, n):\n",
    "    M_i = pow(C, d, n)\n",
    "    return as_bytes(M_i)"
   ]
  },
  {
   "cell_type": "code",
   "execution_count": 8,
   "metadata": {
    "id": "N3y7NMf_HkuB"
   },
   "outputs": [],
   "source": [
    "M = b\"Ala ma kota\""
   ]
  },
  {
   "cell_type": "code",
   "execution_count": 9,
   "metadata": {},
   "outputs": [],
   "source": [
    "n, e, d = generate_keys()"
   ]
  },
  {
   "cell_type": "code",
   "execution_count": 10,
   "metadata": {},
   "outputs": [],
   "source": [
    "C = rsa_encode(M, e, n)"
   ]
  },
  {
   "cell_type": "code",
   "execution_count": 11,
   "metadata": {},
   "outputs": [],
   "source": [
    "D = rsa_decode(C, d, n)"
   ]
  },
  {
   "cell_type": "code",
   "execution_count": 12,
   "metadata": {},
   "outputs": [
    {
     "name": "stdout",
     "output_type": "stream",
     "text": [
      "Ala ma kota\n"
     ]
    }
   ],
   "source": [
    "print(D.decode(\"utf-8\"))"
   ]
  },
  {
   "cell_type": "markdown",
   "metadata": {
    "id": "NjF8Fr_dN0s6"
   },
   "source": [
    "## Naiwny schemat podpisu cyfrowego"
   ]
  },
  {
   "cell_type": "markdown",
   "metadata": {
    "id": "AsvkSf9zN4i8"
   },
   "source": [
    "Naiwna metoda tworzenia podpisu z wiadmości $M$:\n",
    "\n",
    "1) Oblicz $h = H(M)$. H to uzgodniona funkcja skrótu, niech to będzie SHA-256.\n",
    "\n",
    "2) Zakoduj $h$ jako liczbę.\n",
    "\n",
    "3) Oblicz $SIG = h^d$ mod $n$.\n",
    "\n",
    "4) Wyślij parę $(M, SIG)$ weryfikującemu."
   ]
  },
  {
   "cell_type": "markdown",
   "metadata": {
    "id": "xcMiT4DhOoOt"
   },
   "source": [
    "Naiwna metoda weryfikacji podpisu $(M, SIG)$:\n",
    "\n",
    "1) Oblicz $h = H(M)$. H to uzgodniona funkcja skrótu, niech to będzie SHA-256.\n",
    "\n",
    "2) Zakoduj $h$ jako liczbę.\n",
    "\n",
    "3) Oblicz $VER = SIG^e$ mod $n$.\n",
    "\n",
    "4) Jeżeli $VER = h$, weryfikacja przebiegła pomyślnie, a w przeciwnym razie niepomyślnie."
   ]
  },
  {
   "cell_type": "markdown",
   "metadata": {
    "id": "Jx86zFg6PDDs"
   },
   "source": [
    "**Zadanie 4**\n",
    "\n",
    "Zaimplementuj naiwną metodę tworzenia i weryfikowania podpisu cyfrowego RSA."
   ]
  },
  {
   "cell_type": "code",
   "execution_count": 13,
   "metadata": {},
   "outputs": [],
   "source": [
    "def sha256(m):\n",
    "    s = hl.sha256()\n",
    "    s.update(m)\n",
    "    return s.digest()"
   ]
  },
  {
   "cell_type": "code",
   "execution_count": 14,
   "metadata": {
    "id": "Y7OSfmf0PJ2Q"
   },
   "outputs": [],
   "source": [
    "def sign(M, d, n):\n",
    "    h = as_int(sha256(M))\n",
    "    sig = pow(h, d, n)\n",
    "    return sig\n",
    "\n",
    "def verify(M, sig, e, n):\n",
    "    h = as_int(sha256(M))\n",
    "    ver = pow(sig, e, n)\n",
    "    return ver == h"
   ]
  },
  {
   "cell_type": "code",
   "execution_count": 15,
   "metadata": {},
   "outputs": [],
   "source": [
    "n, e, d = generate_keys()"
   ]
  },
  {
   "cell_type": "code",
   "execution_count": 16,
   "metadata": {},
   "outputs": [],
   "source": [
    "sig = sign(M, d, n)"
   ]
  },
  {
   "cell_type": "code",
   "execution_count": 17,
   "metadata": {},
   "outputs": [
    {
     "data": {
      "text/plain": [
       "True"
      ]
     },
     "execution_count": 17,
     "metadata": {},
     "output_type": "execute_result"
    }
   ],
   "source": [
    "verify(M, sig, e, n)"
   ]
  },
  {
   "cell_type": "code",
   "execution_count": 18,
   "metadata": {},
   "outputs": [],
   "source": [
    "sig = sig - 1"
   ]
  },
  {
   "cell_type": "code",
   "execution_count": 19,
   "metadata": {},
   "outputs": [
    {
     "data": {
      "text/plain": [
       "False"
      ]
     },
     "execution_count": 19,
     "metadata": {},
     "output_type": "execute_result"
    }
   ],
   "source": [
    "verify(M, sig, e, n)"
   ]
  },
  {
   "cell_type": "markdown",
   "metadata": {
    "id": "-6MsXDuaIj2C"
   },
   "source": [
    "## MGF 1\n",
    "\n",
    "W dalszej części laboratoriów będziemy potrzebowali generować maskę. Jedynym zatwierdzonym algorytmem który do tego służy jest *Mask Generation Function 1*, opisany w [RFC 8017](https://www.rfc-editor.org/rfc/rfc8017). Jest on stosunkowo prosty. "
   ]
  },
  {
   "cell_type": "markdown",
   "metadata": {
    "id": "wXuwYrpsJzkU"
   },
   "source": [
    "Parametry wejściowe:\n",
    "\n",
    "1) M - bajty wiadomości.\n",
    "\n",
    "2) len - pożądana długość zwórconej maski w bajtach.\n",
    "\n",
    "3) H - wybrana funkcja skrótu, zwracająca $n$ bitowy skrót. Niech to będzie SHA-256. Dla wygody przyjmijmy też, że $hlen = n / 8$ oznacza liczbę bajtów zwracaną przez naszą funkcję skrótu.\n",
    "\n",
    "Wyjściem funkcji są bajty tworzące maskę."
   ]
  },
  {
   "cell_type": "markdown",
   "metadata": {
    "id": "oriQJLCvJ0vM"
   },
   "source": [
    "Algorytm MGF-1:\n",
    "\n",
    "1) Dla 32-biotwego integera $i = 0, ..., ⌈ \\frac{len}{hlen}⌉ - 1$ wykonuj kroki 2 i 3.\n",
    "\n",
    "2) Oblicz tmp = H(M || i). Znak || to konkatenacja i chodzi tu o bajty wiadomości M oraz reprezentację w bajtach 32-bitowego itegera $i$.\n",
    "\n",
    "3) Oblicz output = output || tmp.\n",
    "\n",
    "4) Zwróc $len$ wiodących bajtów zmiennej output."
   ]
  },
  {
   "cell_type": "markdown",
   "metadata": {
    "id": "o-AkA1mHK7cp"
   },
   "source": [
    "**Zadanie 5**\n",
    "\n",
    "Zaprogramuj i przetestuj dla dowolnych wartości funkcję MGF1."
   ]
  },
  {
   "cell_type": "code",
   "execution_count": 20,
   "metadata": {},
   "outputs": [],
   "source": [
    "H = sha256"
   ]
  },
  {
   "cell_type": "code",
   "execution_count": 21,
   "metadata": {},
   "outputs": [],
   "source": [
    "hlen = 32"
   ]
  },
  {
   "cell_type": "code",
   "execution_count": 22,
   "metadata": {},
   "outputs": [],
   "source": [
    "def mgf1(M, l):\n",
    "    output = bytes()\n",
    "    for i in range(math.ceil(l/hlen)):\n",
    "        tmp = H(M + i.to_bytes(4, byteorder='big'))\n",
    "        output = output + tmp\n",
    "    return output[:l]"
   ]
  },
  {
   "cell_type": "code",
   "execution_count": 23,
   "metadata": {},
   "outputs": [
    {
     "data": {
      "text/plain": [
       "b'O\\x82y,\\xd5\\x98\\x18\\xc5B7\\xc4YT\\xe6\\xfa\\x82\\xdd\\x08\\xc8\\x8d\\x9b?\\xb2\\xe2X3\\x1c\\tf%d\\x18\\xd6,\\xad\\x91\\x8eH\\x9e\\xa6\\x1b\\xf7m\\xd4\\xfcu\\xf5L\\x0f&'"
      ]
     },
     "execution_count": 23,
     "metadata": {},
     "output_type": "execute_result"
    }
   ],
   "source": [
    "mgf1(M, 50)"
   ]
  },
  {
   "cell_type": "markdown",
   "metadata": {
    "id": "K3gM9vGyPtna"
   },
   "source": [
    "## OAEP\n",
    "\n",
    "Nasz schemat ma na ten moment jedną sporą wadę, mianowicie rozmiar szyfrowanej wiadomości może być zbyt mały, czyniąc algorytm mniej bezpiecznym. Aby tego uniknąć, używamy algorytmu paddingu opisanego w [RFC 8017](https://www.rfc-editor.org/rfc/rfc8017#section-8), który zwie się *Optimal Assymetric Encryption Padding*."
   ]
  },
  {
   "cell_type": "markdown",
   "metadata": {
    "id": "PFJW4wW5QjjH"
   },
   "source": [
    "### OAEP encoding"
   ]
  },
  {
   "cell_type": "markdown",
   "metadata": {
    "id": "0BTXF8j6Reel"
   },
   "source": [
    "Parametry wejściowe:\n",
    "\n",
    "1) $H$ - funkcja skrótu SHA-256, oraz $hlen$ czyli długość zwracanego skrótu w bajtach.\n",
    "\n",
    "2) $k$ - długość liczby $n$ wyrażona w bajtach.\n",
    "\n",
    "3) $mlen$ - długość wiadomości wyrażona w bajtach.\n",
    "\n",
    "4) $M$ - bajty wiadomości.\n",
    "\n",
    "5) $mgf1$ - Mask Generation Function 1."
   ]
  },
  {
   "cell_type": "markdown",
   "metadata": {
    "id": "YWse9bSFRfmu"
   },
   "source": [
    "Algorytm:\n",
    "\n",
    "1) Jeżeli $mlen > k - 2*hlen - 2$ zwróc błąd.\n",
    "\n",
    "2) Oblicz: $lHash = H(\"\")$.\n",
    "\n",
    "3) Wygeneruj tablicę bajtów $PS$ składającą się z $k - mlen - 2*hlen - 2$ bajtów o wartości 0x00. Rozmiar $PS$ może wynosić 0.\n",
    "\n",
    "4) Oblicz: $DB = lHash || PS || 0x01 || M$. Długość $DB$ powinna wynosić $k - hlen - 1$ bajtów.\n",
    "\n",
    "5) Wygeneruj losową tablicę bajtów $seed$ o rozmiarze $hlen$.\n",
    "\n",
    "6) Oblicz: $dbMask = mgf1(seed, k - hlen - 1)$.\n",
    "\n",
    "7) Oblicz: $maskedDB = DB ⊕ dbMask$.\n",
    "\n",
    "8) Oblicz: $seedMask = mgf1(maskedDB, hlen)$.\n",
    "\n",
    "9) Oblicz: $maskedSeed = seed ⊕ seedMask$.\n",
    "\n",
    "10) Oblicz: $EM = 0x00 || maskedSeed || maskedDB$. Długość $EM$ powinna wynosić $k$.\n",
    "\n",
    "11) Zwróc $EM$."
   ]
  },
  {
   "cell_type": "markdown",
   "metadata": {
    "id": "lwJfZ28SUeKC"
   },
   "source": [
    "### OAEP decoding"
   ]
  },
  {
   "cell_type": "markdown",
   "metadata": {
    "id": "i21JfT9TUlXN"
   },
   "source": [
    "Parametry wejściowe:\n",
    "\n",
    "1) $H$ - funkcja skrótu SHA-256, oraz $hlen$ czyli długość zwracanego skrótu w bajtach.\n",
    "\n",
    "2) $k$ - rozmiar EM wyrażony w bajtach.\n",
    "\n",
    "3) $mgf1$ - Mask Generation Function 1.\n",
    "\n",
    "4) $EM$ - bajty zakodowanej wiadomości."
   ]
  },
  {
   "cell_type": "markdown",
   "metadata": {
    "id": "Toe-FHBzU1n-"
   },
   "source": [
    "Algorytm:\n",
    "\n",
    "1) Rozpakuj tablicę bajtów $EM$. Jej pierwszy bajt (najbardziej znaczący) przypisz do $Y$. Kolejne $hlen$ bajtów przypisz do $maskedSeed$, resztę do $maskedDB$. Czyli $EM = Y || maskedSeed || maskedDB$.\n",
    "\n",
    "2) Oblicz: $lHash = H(\"\")$.\n",
    "\n",
    "3) Oblicz: $seedMask = mgf1(maskedDB, hlen)$.\n",
    "\n",
    "4) Oblicz: $seed = maskedSeed ⊕ seedMask$.\n",
    "\n",
    "5) Oblicz: $dbMask = mgf1(seed, k - hlen - 1)$.\n",
    "\n",
    "6) Oblicz: $DB = maskedDB ⊕ dbMask$.\n",
    "\n",
    "7) Rozpakuj tablicę bajtów $DB$. Pierwsze (najbardziej znaczące) $hlen$ bajtów przypisz do zmiennej $lHash'$. Następne $k - mlen - 2*hlen - 2$ bajtów do PS. Kolejny pojedynczy bajt powinien wynosić 0x01, jeżeli jest inaczej zwróć błąd i **zakończ działanie**. Resztę bajtów przypsiz do zmiennej $M$. Czyli: $DB = lHash' || PS || 0x01 || M$. \n",
    "\n",
    "8) Jeżeli $Y \\neq 0x00$ zwróć błąd i **zakończ działanie**.\n",
    "\n",
    "9) Jeżeli $lHash \\neq lHash'$ zwróć błąd i **zakończ działanie**.\n",
    "\n",
    "10) Zwróc $M$."
   ]
  },
  {
   "cell_type": "markdown",
   "metadata": {
    "id": "A0yx2wepX4n1"
   },
   "source": [
    "**Zadanie 6**\n",
    "\n",
    "Zaproogramuj kodowanie i dekodowanie OAEP. Zmodyfikuj algorytm szyfrowania RSA, tak, aby przed zaszyfrowaniem wiadomość była paddingowana. Zmodyfikuj algorytm deszyfrowania tak, aby po zdeszyfrowaniu konieczne było wywołanie metody dekodowania OAEP w celu odzyskania wiadomości."
   ]
  },
  {
   "cell_type": "code",
   "execution_count": 24,
   "metadata": {},
   "outputs": [],
   "source": [
    "def bytes_xor(b1, b2):\n",
    "    return as_bytes(as_int(b1) ^ as_int(b2), len(b1))"
   ]
  },
  {
   "cell_type": "code",
   "execution_count": 25,
   "metadata": {},
   "outputs": [],
   "source": [
    "def oaep_encode(M, k):\n",
    "    mlen = len(M)\n",
    "    if mlen > k - 2*hlen - 2:\n",
    "        return\n",
    "    l_hash = H(b\"\")\n",
    "    \n",
    "    PS = bytearray(k - mlen - 2*hlen - 2)\n",
    "    DB = l_hash + PS + b\"\\x01\" + M\n",
    "    seed = rand.get_random_bytes(hlen)\n",
    "    \n",
    "    db_mask = mgf1(seed, k - hlen - 1)\n",
    "    masked_db = bytes_xor(DB, db_mask)\n",
    "    \n",
    "    seed_mask = mgf1(masked_db, hlen)\n",
    "    masked_seed = bytes_xor(seed, seed_mask)\n",
    "    \n",
    "    EM = b\"\\x00\" + masked_seed + masked_db\n",
    "    \n",
    "    return EM\n",
    "\n",
    "def oaep_decode(EM, k):\n",
    "    if EM[0] != 0x00:\n",
    "        return\n",
    "    masked_seed, masked_db = EM[1:hlen + 1], EM[hlen + 1:]\n",
    "    l_hash = H(b\"\")\n",
    "    \n",
    "    seed_mask = mgf1(masked_db, hlen)\n",
    "    seed = bytes_xor(masked_seed, seed_mask)\n",
    "    \n",
    "    db_mask = mgf1(seed, k - hlen - 1)\n",
    "    DB = bytes_xor(masked_db, db_mask)\n",
    "    \n",
    "    l_hash_p = DB[:hlen]\n",
    "    \n",
    "    i = hlen\n",
    "    while True:\n",
    "        if DB[i] != 0x00:\n",
    "            break\n",
    "        i += 1\n",
    "    if DB[i] != 0x01:\n",
    "        return\n",
    "    if l_hash_p != l_hash:\n",
    "        return\n",
    "    \n",
    "    return DB[i + 1:]"
   ]
  },
  {
   "cell_type": "code",
   "execution_count": 26,
   "metadata": {
    "id": "sA1oCpziYT6z"
   },
   "outputs": [],
   "source": [
    "M = b\"Ala ma kota\""
   ]
  },
  {
   "cell_type": "code",
   "execution_count": 27,
   "metadata": {},
   "outputs": [
    {
     "name": "stdout",
     "output_type": "stream",
     "text": [
      "b'Ala ma kota'\n"
     ]
    }
   ],
   "source": [
    "EM = oaep_encode(M, 1000)\n",
    "print(oaep_decode(EM, 1000))"
   ]
  },
  {
   "cell_type": "code",
   "execution_count": 28,
   "metadata": {},
   "outputs": [],
   "source": [
    "def rsa_encode_oaep(M, e, n, k):\n",
    "    EM = oaep_encode(M, k)\n",
    "    EM_i = as_int(EM)\n",
    "    return pow(EM_i, e, n)\n",
    "    \n",
    "def rsa_decode_oaep(C, d, n, k):\n",
    "    EM_i = pow(C, d, n)\n",
    "    EM = as_bytes(EM_i, k)\n",
    "    return oaep_decode(EM, k)"
   ]
  },
  {
   "cell_type": "code",
   "execution_count": 29,
   "metadata": {},
   "outputs": [],
   "source": [
    "n, e, d = generate_keys()"
   ]
  },
  {
   "cell_type": "code",
   "execution_count": 30,
   "metadata": {},
   "outputs": [],
   "source": [
    "C = rsa_encode_oaep(M, e, n, 250)"
   ]
  },
  {
   "cell_type": "code",
   "execution_count": 31,
   "metadata": {},
   "outputs": [],
   "source": [
    "D = rsa_decode_oaep(C, d, n, 250)"
   ]
  },
  {
   "cell_type": "code",
   "execution_count": 32,
   "metadata": {},
   "outputs": [
    {
     "name": "stdout",
     "output_type": "stream",
     "text": [
      "Ala ma kota\n"
     ]
    }
   ],
   "source": [
    "print(D.decode(\"utf-8\"))"
   ]
  },
  {
   "cell_type": "markdown",
   "metadata": {
    "id": "ug2e_I03YoR1"
   },
   "source": [
    "## EMSA - PSS\n",
    "\n",
    "Utworzenie bezpiecznej sygnatury RSA wymaga zastowania algorytmu *Encoding Method for Signature with Appendix - Probabilistic Signature Scheme* ."
   ]
  },
  {
   "cell_type": "markdown",
   "metadata": {
    "id": "KrWpFTRHZSA7"
   },
   "source": [
    "### EMSA encoding"
   ]
  },
  {
   "cell_type": "markdown",
   "metadata": {
    "id": "bNPN9mqIZT5F"
   },
   "source": [
    "Parametry wejściowe:\n",
    "\n",
    "1) $H$ - funkcja skrótu SHA-256, oraz $hlen$ czyli długość zwracanego skrótu w bajtach.\n",
    "\n",
    "2) $slen$ - długość soli w bajtach, powinna być równa $hlen$.\n",
    "\n",
    "3) $M$ - bajty wiadomości do podpisania.\n",
    "\n",
    "4) $mgf1$ - Mask Generation Function 1.\n",
    "\n",
    "5) $emBits$ - pożądana długość sygnatury w bitach. Jest to najczęściej długość bitowa liczby modulus $n$ pomniejszona o jeden, czyli w naszym przypadku 2047.\n",
    "\n",
    "6) $emlen$ - długość sygnatury w bajtach, równa długości parametru $n$ wyrażonego w bajtach.\n"
   ]
  },
  {
   "cell_type": "markdown",
   "metadata": {
    "id": "6-0Vzuzf_f81"
   },
   "source": [
    "Algorytm:\n",
    "\n",
    "1) Oblicz: $mHash = H(M)$.\n",
    "\n",
    "2) Jeżeli $emlen < hlen + slen + 2$ **zakończ i zwróć błąd**.\n",
    "\n",
    "3) Wygeneruj tablicę losowych bajtów $salt$ o długości $slen$.\n",
    "\n",
    "4) Oblicz: $M' = 0x00 00 00 00 00 00 00 00 || mHash || salt$. Długość $M'$ to $8 + hlen + slen$.\n",
    "\n",
    "5) Oblicz: $mHash' = H(M')$.\n",
    "\n",
    "6) Wygeneruj tablicę $PS$ składającą się z bajtów 0x00 o długości $emlen - slen - hlen - 2$.\n",
    "\n",
    "7) Oblicz: $DB = PS || 0x01 || salt$. Długość $DB$ powinna wynosić $emlen - hlen - 1$ bajtów.\n",
    "\n",
    "8) Oblicz: $dbMask = mgf1(mHash', emlen - hlen - 1)$.\n",
    "\n",
    "9) Oblicz: $maskedDB = DB ⊕ dbMask$.\n",
    "\n",
    "10) Ustaw $8 * emlen - emBits$ **najbardziej znaczących** bitów $maskedDB$ na wartości 0.\n",
    "\n",
    "11) Oblicz: $EM = maskedDB || mHash' || 0xbc$.\n",
    "\n",
    "12) Zwróć $EM$.\n"
   ]
  },
  {
   "cell_type": "markdown",
   "metadata": {
    "id": "HWbbbw1DCGpr"
   },
   "source": [
    "## EMSA decoding"
   ]
  },
  {
   "cell_type": "markdown",
   "metadata": {
    "id": "xR6QyzduCIoc"
   },
   "source": [
    "Parametry wejściowe:\n",
    "\n",
    "1) $H$ - funkcja skrótu SHA-256, oraz $hlen$ czyli długość zwracanego skrótu w bajtach.\n",
    "\n",
    "2) $slen$ - długość soli w bajtach, powinna być równa $hlen$.\n",
    "\n",
    "3) $EM$ - sygnatura wiadomości $M$.\n",
    "\n",
    "4) $M$ - bajty wiadomości do weryfikacji.\n",
    "\n",
    "4) $mgf1$ - Mask Generation Function 1.\n",
    "\n",
    "5) $emBits$ - długość sygnatury w bitach. Jest to najczęściej długość bitowa liczby modulus $n$ pomniejszona o jeden, czyli w naszym przypadku 2047.\n",
    "\n",
    "6) $emlen$ - długość sygnatury w bajtach, równa długości parametru $n$ wyrażonego w bajtach."
   ]
  },
  {
   "cell_type": "markdown",
   "metadata": {
    "id": "MqZUQgT6CspI"
   },
   "source": [
    "Algorytm:\n",
    "\n",
    "1) Oblicz: $mHash = H(M)$.\n",
    "\n",
    "2) Jeżeli $emlen < hlen + slen + 2$ **zakończ i zwróć błąd weryfikacji**.\n",
    "\n",
    "3) Jeżeli ostatni bajt (najmniej znaczący) $EM$ nie ma wartości 0xbc **zakończ i zwróć błąd weryfikacji**.\n",
    "\n",
    "4) Podstaw $emlen - hlen - 1$ najbardziej znaczących bajtów do $maskedDB$ oraz kolejne $hlen$ bajtów do $mHash'$.\n",
    "\n",
    "5) Jeżeli $8 * emlen - emBits$ najbardziej znaczących bitów $maskedDB$ nie ma wartości 0, **zakończ i zwróć błąd weryfikacji**.\n",
    "\n",
    "6) Oblicz: $dbMask = mgf1(mHash', emlen - hlen - 1)$.\n",
    "\n",
    "7) Oblicz: $DB = maskedDB ⊕ dbMask$.\n",
    "\n",
    "8) Ustaw $8 * emlen - emBits$ najbardziej znaczących bitów $DB$ na 0.\n",
    "\n",
    "9) Jeżeli $emlen - hlen - slen - 2$ najbardziej znaczących bajtów $DB$ nie posiada wartości 0x00 lub gdy bajt na pozycji $emlen - hlen - slen - 1$ (licząc od najbardziej znaczącego) nie posiada wartości 0x01 **zakończ i zwróć błąd weryfikacji**.\n",
    "\n",
    "10) Przypisz do zmiennej $salt$ dokładnie $slen$ najmniej znaczących bajtów $DB$.\n",
    "\n",
    "11) Oblicz: $M' = 0x00 00 00 00 00 00 00 00 || mHash || salt$. Długość $M'$ to $8 + hlen + slen$.\n",
    "\n",
    "12) Oblicz $mHash'' = H(M')$.\n",
    "\n",
    "13) Jeżeli $mHash' \\neq mHash''$ **zakończ i zwróć błąd weryfikacji**, w przeciwnym razie **weryfikacja powiodła się**.\n"
   ]
  },
  {
   "cell_type": "markdown",
   "metadata": {
    "id": "wrxJHSkyIvz5"
   },
   "source": [
    "**Zadanie 7**\n",
    "\n",
    "Zaprogramuj kodowanie i dekodowanie EMSA, a następnie popraw algorytmy tworzenia i weryfikacji podpisu cyfrowego RSA. Tworzenie podpisu powinno wyglądać tak, że wiadomość najpierw jest kodowana z wykorzystaniem EMSA, a później tworzony jest podpis z wykorzystaniem klucza prywatnego. Dekodowanie powinno wyglądać tak, że najpierw używany jest klucz publiczny do odtworzenia podpisu EMSA, a następnie wykorzystywane jest dekodowanie EMSA w celu weryfikacji."
   ]
  },
  {
   "cell_type": "code",
   "execution_count": 33,
   "metadata": {},
   "outputs": [],
   "source": [
    "def bytes_and(b1, b2):\n",
    "    return as_bytes(as_int(b1) & as_int(b2), len(b1))"
   ]
  },
  {
   "cell_type": "code",
   "execution_count": 34,
   "metadata": {},
   "outputs": [],
   "source": [
    "slen = hlen\n",
    "em_bits = nlen - 1\n",
    "emlen = nlen//8"
   ]
  },
  {
   "cell_type": "code",
   "execution_count": 35,
   "metadata": {},
   "outputs": [],
   "source": [
    "def emsa_encode(M):\n",
    "    m_hash = H(M)\n",
    "    if emlen < hlen + slen + 2:\n",
    "        return\n",
    "    salt = rand.get_random_bytes(slen)\n",
    "    \n",
    "    M_p = b\"\\x00\"*8 + m_hash + salt\n",
    "    m_hash_p = H(M_p)\n",
    "    \n",
    "    PS = bytearray(emlen - slen - hlen - 2)\n",
    "    DB = PS + b\"\\x01\" + salt\n",
    "    \n",
    "    db_mask = mgf1(m_hash_p, emlen - hlen - 1)\n",
    "    masked_db = bytes_xor(DB, db_mask)\n",
    "    \n",
    "    EM = b\"\\x00\"*(8*emlen - em_bits) + masked_db[8*emlen - em_bits:] + m_hash_p + b\"\\xbc\"\n",
    "    \n",
    "    return EM\n",
    "\n",
    "def emsa_verify(M, EM):\n",
    "    m_hash = H(M)\n",
    "    if emlen < hlen + slen + 2:\n",
    "        return False\n",
    "    if EM[-1] != 0xbc:\n",
    "        return False\n",
    "    \n",
    "    masked_db, m_hash_p = EM[:emlen - hlen - 1], EM[emlen - hlen - 1:-1]\n",
    "    if masked_db[:8*emlen - em_bits] != b\"\\x00\"*(8*emlen - em_bits):\n",
    "        return False\n",
    "    \n",
    "    db_mask = mgf1(m_hash_p, emlen - hlen - 1)\n",
    "    DB = bytes_xor(masked_db, db_mask)\n",
    "    DB = b\"\\x00\"*(8*emlen - em_bits) + DB[8*emlen - em_bits:]\n",
    "    if DB[:emlen - hlen - slen - 2] != b\"\\x00\"*(emlen - hlen - slen - 2) or DB[emlen - hlen - slen - 2] != 0x01: # Był błąd w opisie, powinno być -2 w 2 warunku\n",
    "        return False\n",
    "    \n",
    "    salt = DB[-slen:]\n",
    "    \n",
    "    M_p = b\"\\x00\"*8 + m_hash + salt\n",
    "    m_hash_pp = H(M_p)\n",
    "    \n",
    "    return m_hash_p == m_hash_pp"
   ]
  },
  {
   "cell_type": "code",
   "execution_count": 36,
   "metadata": {
    "id": "S-TbQA4NJrl3"
   },
   "outputs": [],
   "source": [
    "M = b\"Ala ma podpisy\""
   ]
  },
  {
   "cell_type": "code",
   "execution_count": 37,
   "metadata": {},
   "outputs": [],
   "source": [
    "def sign_emsa(M, d, n):\n",
    "    EM = emsa_encode(M)\n",
    "    sig = pow(as_int(EM), d, n)\n",
    "    return sig\n",
    "\n",
    "def verify_emsa(M, sig, e, n):\n",
    "    EM = as_bytes(pow(sig, e, n), emlen)\n",
    "    return emsa_verify(M, EM)"
   ]
  },
  {
   "cell_type": "code",
   "execution_count": 38,
   "metadata": {},
   "outputs": [],
   "source": [
    "n, e, d = generate_keys()"
   ]
  },
  {
   "cell_type": "code",
   "execution_count": 39,
   "metadata": {},
   "outputs": [
    {
     "name": "stdout",
     "output_type": "stream",
     "text": [
      "True\n"
     ]
    }
   ],
   "source": [
    "sig = sign_emsa(M, d, n)\n",
    "# sig -= 1\n",
    "print(verify_emsa(M, sig, e, n))"
   ]
  },
  {
   "cell_type": "markdown",
   "metadata": {
    "id": "d7txLS64JZI-"
   },
   "source": [
    "## RSA - KEM\n",
    "\n",
    "RSA - KEM, czyli z ang. *Key Encapsulation Mechanism* to prosty algorytm dedykowany do wymiany klucza symetrycznego. Obie strony dysponują uzgodnioną funkcją skótu H. Instancja, która chce **otrzymać** tajny klucz do komunikacji symetrycznej generuje klucze RSA i udostępnia swój klucz publiczny. Instancja, która chce wygenerować tajny klucz do komunikacji symetrycznej dysponuje kluczem publicznym instancji, która chce go otrzymać."
   ]
  },
  {
   "cell_type": "markdown",
   "metadata": {
    "id": "tl7cu30PJ1lk"
   },
   "source": [
    "Instancja generująca klucz symetryczny:\n",
    "\n",
    "1) Znajdź losową liczbę $RAND$ spełniającą warunki OAEP.\n",
    "\n",
    "2) Oblicz: $KEY = H(RAND)$. Jeżeli trzeba, przytnij $KEY$ do odpowiedniej długości.\n",
    "\n",
    "3) Oblicz: $CIPHERED\\_KEY = RSA\\_OAEP\\_ENCODING(KEY, (e, n))$.\n",
    "\n",
    "4) Wyślij $CIPHERED\\_KEY$."
   ]
  },
  {
   "cell_type": "markdown",
   "metadata": {
    "id": "oFB9JAwULw70"
   },
   "source": [
    "Instancja otrzymująca zaszyfrowany klucz symetryczny:\n",
    "\n",
    "1) Oblicz: $KEY = RSA\\_OAEP\\_DECODING(CIPHERED\\_KEY, (d, n))$\n",
    "\n",
    "2) Jeżeli trzeba przytnij $KEY$ do odpowiedniej długości."
   ]
  },
  {
   "cell_type": "markdown",
   "metadata": {
    "id": "386c_pDZMSRG"
   },
   "source": [
    "Np. AES występuje w wersji 128b, 192b i 256b. Jeżeli jako H przyjmiemy więc SHA-256, nie trzeba przycinać klucza dla algorytmu AES-256. W przeciwnym razie należy klucz odpowiednio przyciąć (z lewej lub prawej, byle obie strony tak samo) i to ta wartość staje się kluczem symetrycznym."
   ]
  },
  {
   "cell_type": "markdown",
   "metadata": {
    "id": "7N66NPBBMpLS"
   },
   "source": [
    "**Zadanie 8**\n",
    "\n",
    "Zasymuluj takową wymianę (bez przycinania klucza)."
   ]
  },
  {
   "cell_type": "code",
   "execution_count": 40,
   "metadata": {
    "id": "Td_Qg2zlMuRt"
   },
   "outputs": [],
   "source": [
    "def generate_sym_key(n):\n",
    "    r = rand.get_random_bytes(256)\n",
    "    key = H(r)\n",
    "    return key\n",
    "\n",
    "def encode_sym_key(key, e, n):\n",
    "    ciphered_key = rsa_encode_oaep(key, e, n, 256)\n",
    "    return ciphered_key\n",
    "\n",
    "def decode_sym_key(ciphered_key, d, n):\n",
    "    key = rsa_decode_oaep(ciphered_key, d, n, 256)\n",
    "    return key"
   ]
  },
  {
   "cell_type": "code",
   "execution_count": 41,
   "metadata": {},
   "outputs": [],
   "source": [
    "n, e, d = generate_keys()"
   ]
  },
  {
   "cell_type": "code",
   "execution_count": 42,
   "metadata": {},
   "outputs": [
    {
     "name": "stdout",
     "output_type": "stream",
     "text": [
      "Key: b'w\\xc26\\xd4\\xca\\x99\\x04wX\\xfb\\xa0\\xc3I\\xc4\\xd4\\xef\\xba;\\xbb\\xb517B1\\x03\\xd7\\xa0\\xb2H\\xde(\\x05'\n",
      "\n",
      "Encoded key: 9391135878242844221224416004999813130436309188556744359240069983758952798749930115856453870202923067641042264540691410800708512255038563104623814585794920924175158677448598116292092945333665675174497359288386850984124213676983136286362639752069692480407214900484832148645429300941759033453822235105938115618591660532473755743038836713969069550774268326310376853436859394201703169648963211682365429867850199796939655554278069118098579213383934357970454832460058999526877968187894821258987124478771808616718009091081105253239495532334343505268652270751566475978975867137315128044679211819856849125553198223209808272177\n"
     ]
    }
   ],
   "source": [
    "key = generate_sym_key(n)\n",
    "print(\"Key:\", key)\n",
    "c_key = encode_sym_key(key, e, n)\n",
    "print(\"\\nEncoded key:\", c_key)"
   ]
  },
  {
   "cell_type": "code",
   "execution_count": 43,
   "metadata": {},
   "outputs": [
    {
     "name": "stdout",
     "output_type": "stream",
     "text": [
      "Decoded key: b'w\\xc26\\xd4\\xca\\x99\\x04wX\\xfb\\xa0\\xc3I\\xc4\\xd4\\xef\\xba;\\xbb\\xb517B1\\x03\\xd7\\xa0\\xb2H\\xde(\\x05'\n"
     ]
    }
   ],
   "source": [
    "d_key = decode_sym_key(c_key, d, n)\n",
    "print(\"Decoded key:\", d_key)"
   ]
  },
  {
   "cell_type": "code",
   "execution_count": null,
   "metadata": {},
   "outputs": [],
   "source": []
  }
 ],
 "metadata": {
  "colab": {
   "provenance": []
  },
  "kernelspec": {
   "display_name": "Python 3 (ipykernel)",
   "language": "python",
   "name": "python3"
  },
  "language_info": {
   "codemirror_mode": {
    "name": "ipython",
    "version": 3
   },
   "file_extension": ".py",
   "mimetype": "text/x-python",
   "name": "python",
   "nbconvert_exporter": "python",
   "pygments_lexer": "ipython3",
   "version": "3.8.13"
  }
 },
 "nbformat": 4,
 "nbformat_minor": 4
}
